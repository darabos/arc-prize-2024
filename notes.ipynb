{
 "cells": [
  {
   "cell_type": "markdown",
   "metadata": {},
   "source": [
    "- Precalculate everything. (Find shapes, colors, etc.)\n",
    "- We could explore lots of options in parallel on a GPU.\n",
    "- But it's easier to just search quickly in Rust.\n",
    "- Determine output size.\n",
    "- Identify possible modes.\n",
    "- Determine background color for src and dst. (most common color on edges)\n",
    "Testing:\n",
    "- Take all the training data and add noise to it. Horizontal stripes. Shifts. Rotations. Etc.\n",
    "\n",
    "Paper.\n",
    "- What is the biological mechanism for recall? Do we scan through a database?\n"
   ]
  }
 ],
 "metadata": {
  "language_info": {
   "name": "python"
  }
 },
 "nbformat": 4,
 "nbformat_minor": 2
}
