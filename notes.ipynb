{
 "cells": [
  {
   "cell_type": "markdown",
   "metadata": {},
   "source": [
    "- Precalculate everything. (Find shapes, colors, etc.)\n",
    "- We could explore lots of options in parallel on a GPU.\n",
    "- But it's easier to just search quickly in Rust.\n",
    "- Determine output size.\n",
    "- Identify possible modes.\n",
    "- Determine background color for src and dst. (most common color on edges)\n",
    "- Search all tasks in parallel.\n",
    "- Stackable resize.\n",
    "- Make shapes non-Option.\n",
    "\n",
    "Testing:\n",
    "- Take all the training data and add noise to it. Horizontal stripes. Shifts. Rotations. Noise. Red dot in corner. Different background color. Completely empty image.\n",
    "\n",
    "Paper.\n",
    "- What is the biological mechanism for recall? Do we scan through a database?\n",
    "\n",
    "Next steps:\n",
    "- Build for 100/100 by hand.\n",
    "- Get to 200/200 with search.\n",
    "- Measure on 400.\n",
    "\n",
    "Flower:\n",
    "- 0962bcdd\n",
    "- 0ca9ddb6\n",
    "- 22233c11\n",
    "Complete pattern:\n",
    "- 0dfd9992\n",
    "- 29ec7d0e\n",
    "- 3631a71a"
   ]
  }
 ],
 "metadata": {
  "language_info": {
   "name": "python"
  }
 },
 "nbformat": 4,
 "nbformat_minor": 2
}
